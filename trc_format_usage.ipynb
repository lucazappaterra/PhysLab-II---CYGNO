{
  "cells": [
    {
      "cell_type": "markdown",
      "metadata": {
        "id": "view-in-github",
        "colab_type": "text"
      },
      "source": [
        "<a href=\"https://colab.research.google.com/github/lucazappaterra/PhysLab-II---CYGNO/blob/main/trc_format_usage.ipynb\" target=\"_parent\"><img src=\"https://colab.research.google.com/assets/colab-badge.svg\" alt=\"Open In Colab\"/></a>"
      ]
    },
    {
      "cell_type": "markdown",
      "source": [
        "# Parsing dei file in uscita dall'oscilloscopio con LecroyParser"
      ],
      "metadata": {
        "id": "owKOCu8HkIcg"
      },
      "id": "owKOCu8HkIcg"
    },
    {
      "cell_type": "markdown",
      "source": [
        "Installiamo lecroyparser, va fatto ogni volta su Colab"
      ],
      "metadata": {
        "id": "2yNR8TzBiyRL"
      },
      "id": "2yNR8TzBiyRL"
    },
    {
      "cell_type": "code",
      "source": [
        "!pip install lecroyparser"
      ],
      "metadata": {
        "colab": {
          "base_uri": "https://localhost:8080/"
        },
        "id": "UnpWNRXKgMuZ",
        "outputId": "820ebe3a-4302-4ee4-947b-a14ccdcd830e"
      },
      "id": "UnpWNRXKgMuZ",
      "execution_count": 3,
      "outputs": [
        {
          "output_type": "stream",
          "name": "stdout",
          "text": [
            "Collecting lecroyparser\n",
            "  Downloading lecroyparser-1.4.2-py3-none-any.whl (7.2 kB)\n",
            "Requirement already satisfied: numpy in /usr/local/lib/python3.7/dist-packages (from lecroyparser) (1.21.5)\n",
            "Installing collected packages: lecroyparser\n",
            "Successfully installed lecroyparser-1.4.2\n"
          ]
        }
      ]
    },
    {
      "cell_type": "markdown",
      "source": [
        "Importiamo le librerie"
      ],
      "metadata": {
        "id": "AEsvrtxYi4_g"
      },
      "id": "AEsvrtxYi4_g"
    },
    {
      "cell_type": "code",
      "execution_count": 4,
      "id": "3470bdb4",
      "metadata": {
        "id": "3470bdb4"
      },
      "outputs": [],
      "source": [
        "import lecroyparser\n",
        "import matplotlib.pyplot as plt\n",
        "import os"
      ]
    },
    {
      "cell_type": "markdown",
      "source": [
        "Scarichiamo i dati dalla repo su GitHub, e unzippiamoli (vanno caricati compressi per fare questa cosa). \\\\\n",
        "Imho molto più comodo rispetto che a caricare la roba su colab ogni volta."
      ],
      "metadata": {
        "id": "lIpLuJtUiwAV"
      },
      "id": "lIpLuJtUiwAV"
    },
    {
      "cell_type": "code",
      "source": [
        "!wget https://github.com/lucazappaterra/PhysLab-II---CYGNO/raw/main/pmt-xxx.zip\n",
        "!unzip pmt-xxx.zip "
      ],
      "metadata": {
        "id": "8XHIeumOhYBF"
      },
      "id": "8XHIeumOhYBF",
      "execution_count": null,
      "outputs": []
    },
    {
      "cell_type": "markdown",
      "source": [
        "Giusto per vedere le cartelle nella directory facciamo un bel !ls"
      ],
      "metadata": {
        "id": "4PL9GOIzjt7l"
      },
      "id": "4PL9GOIzjt7l"
    },
    {
      "cell_type": "code",
      "execution_count": 19,
      "id": "07f16a7e",
      "metadata": {
        "colab": {
          "base_uri": "https://localhost:8080/"
        },
        "id": "07f16a7e",
        "outputId": "9cba91b5-d453-4704-9bc3-b021137c6493"
      },
      "outputs": [
        {
          "output_type": "stream",
          "name": "stdout",
          "text": [
            "__MACOSX  pmt-xxx  pmt-xxx.zip\tpmt-xxx.zip.1  pmt-xxx.zip.2  sample_data\n"
          ]
        }
      ],
      "source": [
        "!ls"
      ]
    },
    {
      "cell_type": "markdown",
      "source": [
        "Impostiamo il percorso (andrà cambiato di volta in volta) e creiamo una variabile ' files ' che ci servirà dopo per il loop"
      ],
      "metadata": {
        "id": "mOuEMjKmj4CQ"
      },
      "id": "mOuEMjKmj4CQ"
    },
    {
      "cell_type": "code",
      "execution_count": 13,
      "id": "09b314e0",
      "metadata": {
        "id": "09b314e0"
      },
      "outputs": [],
      "source": [
        "path='pmt-xxx/'\n",
        "files = os.listdir(path)"
      ]
    },
    {
      "cell_type": "markdown",
      "source": [
        "E ora un bel loop sui file, stampando qualche info e plottando quello che c'è dentro. \\\\\n",
        "**N.B.:** in questo caso c'è un file, .DS_Store , che non so se ci sarà in ogni caso, ma va skippato perché altrimenti LecroyParser non sa che farci e impazzisce."
      ],
      "metadata": {
        "id": "iEXzGYgckrSG"
      },
      "id": "iEXzGYgckrSG"
    },
    {
      "cell_type": "code",
      "execution_count": 21,
      "id": "141c4b8c",
      "metadata": {
        "colab": {
          "base_uri": "https://localhost:8080/",
          "height": 868
        },
        "id": "141c4b8c",
        "outputId": "12bc02d7-0407-4177-a70e-f0eb513d493d"
      },
      "outputs": [
        {
          "output_type": "stream",
          "name": "stdout",
          "text": [
            "0 C1--900V-15mV--00001.trc\n",
            "Le Croy Scope Data\n",
            "Path: None - from bytes data\n",
            "Endianness: <\n",
            "Instrument: LECROYWS4104HD\n",
            "Instrument Number: 18165\n",
            "Template Name: LECROY_2_3\n",
            "Channel: Channel 1\n",
            "WaveArrayCount: 502\n",
            "Vertical Coupling: DC50\n",
            "Bandwidth Limit: off\n",
            "Record Type: single_sweep\n",
            "Processing: No Processing\n",
            "TimeBase: 20 ns/div\n",
            "TriggerTime: 2022-03-18 00:09:44.95\n",
            "\n",
            "1 C1--900V-15mV--00000.trc\n",
            "Le Croy Scope Data\n",
            "Path: None - from bytes data\n",
            "Endianness: <\n",
            "Instrument: LECROYWS4104HD\n",
            "Instrument Number: 18165\n",
            "Template Name: LECROY_2_3\n",
            "Channel: Channel 1\n",
            "WaveArrayCount: 502\n",
            "Vertical Coupling: DC50\n",
            "Bandwidth Limit: off\n",
            "Record Type: single_sweep\n",
            "Processing: No Processing\n",
            "TimeBase: 20 ns/div\n",
            "TriggerTime: 2022-03-18 00:09:22.36\n",
            "\n",
            "2 .DS_Store\n"
          ]
        },
        {
          "output_type": "display_data",
          "data": {
            "text/plain": [
              "<Figure size 432x288 with 1 Axes>"
            ],
            "image/png": "[encoded data removed]"
          },
          "metadata": {
            "needs_background": "light"
          }
        }
      ],
      "source": [
        "for i,filename in enumerate(files):\n",
        "    print(i,filename)\n",
        "    if(i==2): pass # .Ds_Store \n",
        "    else:\n",
        "        f = open(path+filename, 'rb')\n",
        "        data = lecroyparser.ScopeData(data = f.read())\n",
        "        print(data)\n",
        "        plt.plot(data.x, data.y, label=filename)\n",
        "        plt.grid(alpha=.5)\n",
        "        plt.xlabel('time [s]')\n",
        "        plt.ylabel('V [V]')\n",
        "        plt.legend()\n",
        "        f.close()"
      ]
    },
    {
      "cell_type": "code",
      "source": [
        ""
      ],
      "metadata": {
        "id": "9CSIWGMtlkt-"
      },
      "id": "9CSIWGMtlkt-",
      "execution_count": null,
      "outputs": []
    }
  ],
  "metadata": {
    "kernelspec": {
      "display_name": "Python 3 (ipykernel)",
      "language": "python",
      "name": "python3"
    },
    "language_info": {
      "codemirror_mode": {
        "name": "ipython",
        "version": 3
      },
      "file_extension": ".py",
      "mimetype": "text/x-python",
      "name": "python",
      "nbconvert_exporter": "python",
      "pygments_lexer": "ipython3",
      "version": "3.9.9"
    },
    "colab": {
      "name": "trc_format_usage.ipynb",
      "provenance": [],
      "collapsed_sections": [],
      "include_colab_link": true
    }
  },
  "nbformat": 4,
  "nbformat_minor": 5
}